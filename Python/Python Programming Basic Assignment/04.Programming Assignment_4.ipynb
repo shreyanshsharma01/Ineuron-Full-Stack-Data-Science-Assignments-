{
 "cells": [
  {
   "cell_type": "markdown",
   "metadata": {},
   "source": [
    "#### 1.Write a Python Program to find the factorial of a number ?"
   ]
  },
  {
   "cell_type": "code",
   "execution_count": 1,
   "metadata": {},
   "outputs": [
    {
     "name": "stdout",
     "output_type": "stream",
     "text": [
      "enter num6\n",
      "factorial of number: 720\n"
     ]
    }
   ],
   "source": [
    "# 5! = 1*2*3*4*5\n",
    "# factorial using loop\n",
    "\n",
    "num = int(input(\"enter num\"))\n",
    "fact = 1\n",
    "if num<0:\n",
    "    print(\"factorial doesn't exist\")\n",
    "elif num==0:\n",
    "    print(f\"factorial of number: {fact}\")\n",
    "else:\n",
    "    for i in range(1,num+1):\n",
    "        fact=i*fact\n",
    "    print(f\"factorial of number: {fact}\")"
   ]
  },
  {
   "cell_type": "code",
   "execution_count": 2,
   "metadata": {},
   "outputs": [
    {
     "name": "stdout",
     "output_type": "stream",
     "text": [
      "enter num: 6\n",
      "factorial of number: 720\n"
     ]
    }
   ],
   "source": [
    "#factorial using recursion : 5! = 5*4*3*2*1\n",
    "num = int(input(\"enter num: \"))\n",
    "fact = 1\n",
    "def fact(num):\n",
    "    if (num==1 or num==0):\n",
    "        return 1\n",
    "    else:\n",
    "        return num*fact(num-1)\n",
    "print(f\"factorial of number: {fact(num)}\")"
   ]
  },
  {
   "cell_type": "markdown",
   "metadata": {},
   "source": [
    "#### 2.Write a Python Program to display the multiplication table ? "
   ]
  },
  {
   "cell_type": "code",
   "execution_count": 3,
   "metadata": {},
   "outputs": [
    {
     "name": "stdout",
     "output_type": "stream",
     "text": [
      "Enter num: 8\n",
      "8 x 1 = 8\n",
      "8 x 2 = 16\n",
      "8 x 3 = 24\n",
      "8 x 4 = 32\n",
      "8 x 5 = 40\n",
      "8 x 6 = 48\n",
      "8 x 7 = 56\n",
      "8 x 8 = 64\n",
      "8 x 9 = 72\n",
      "8 x 10 = 80\n"
     ]
    }
   ],
   "source": [
    "num = int(input(\"Enter num: \"))\n",
    "\n",
    "for i in range(1,11):\n",
    "    print(f\"{num} x {i} = {num*i}\")"
   ]
  },
  {
   "cell_type": "markdown",
   "metadata": {},
   "source": [
    "#### 3. Write a Python Program to Print the Fibonacci sequence?"
   ]
  },
  {
   "cell_type": "code",
   "execution_count": 4,
   "metadata": {},
   "outputs": [
    {
     "name": "stdout",
     "output_type": "stream",
     "text": [
      "enter no. of terms of fibonacci series: 7\n",
      "0 1 1 2 3 5 8 "
     ]
    }
   ],
   "source": [
    "num = int(input(\"enter no. of terms of fibonacci series: \"))\n",
    "a=0\n",
    "b=1\n",
    "\n",
    "print(a,end = ' ')\n",
    "print(b,end = ' ')\n",
    "for i in range(2,num):\n",
    "    c=a+b\n",
    "    print(c,end = ' ')\n",
    "    a=b\n",
    "    b=c"
   ]
  },
  {
   "cell_type": "markdown",
   "metadata": {},
   "source": [
    "#### 4. Write a Python Program to Check Armstrong Number?"
   ]
  },
  {
   "cell_type": "code",
   "execution_count": 5,
   "metadata": {},
   "outputs": [
    {
     "name": "stdout",
     "output_type": "stream",
     "text": [
      "enter digits of number: 3\n",
      "enter number: 153\n",
      "yes! 153 is an armstrong no\n"
     ]
    }
   ],
   "source": [
    "# ArmstrongNumber = sum of cube of its individual nos.\n",
    "\n",
    "dig = int(input(\"enter digits of number: \"))\n",
    "num = int(input(\"enter number: \"))\n",
    "sum = 0\n",
    "temp = num # putting n value to temp variable as n value changes while performing loop\n",
    "for i in range(0,dig):\n",
    "    rem = num%10 #accessing the last digit\n",
    "    sum  = sum+(rem**3)\n",
    "    num=num//10\n",
    "if (temp==sum):\n",
    "    print(f\"yes! {temp} is an armstrong no\")\n",
    "else:\n",
    "    print(f\"Not an armstrong no\")"
   ]
  },
  {
   "cell_type": "markdown",
   "metadata": {},
   "source": [
    "#### 5. Write a Python Program to Find Armstrong Number in an Interval?"
   ]
  },
  {
   "cell_type": "code",
   "execution_count": 6,
   "metadata": {},
   "outputs": [
    {
     "name": "stdout",
     "output_type": "stream",
     "text": [
      "enter lower limit: 100\n",
      "enter upper limit: 500\n",
      "From 100 to 500 the Armstrong nos are: \n",
      "153 370 371 407 "
     ]
    }
   ],
   "source": [
    "lower = int(input(\"enter lower limit: \"))\n",
    "upper = int(input(\"enter upper limit: \"))\n",
    "print(f\"From {lower} to {upper} the Armstrong nos are: \")\n",
    "for num in range(lower,upper+1):\n",
    "    sum = 0\n",
    "    temp = num\n",
    "    while(num>0):\n",
    "        rem = num % 10\n",
    "        sum = sum + (rem**3)\n",
    "        num = num//10\n",
    "        \n",
    "    if (temp == sum):\n",
    "        print(f\"{sum}\",end = ' ')\n",
    "   "
   ]
  },
  {
   "cell_type": "code",
   "execution_count": null,
   "metadata": {},
   "outputs": [],
   "source": []
  }
 ],
 "metadata": {
  "kernelspec": {
   "display_name": "Python 3",
   "language": "python",
   "name": "python3"
  },
  "language_info": {
   "codemirror_mode": {
    "name": "ipython",
    "version": 3
   },
   "file_extension": ".py",
   "mimetype": "text/x-python",
   "name": "python",
   "nbconvert_exporter": "python",
   "pygments_lexer": "ipython3",
   "version": "3.7.6"
  }
 },
 "nbformat": 4,
 "nbformat_minor": 4
}
