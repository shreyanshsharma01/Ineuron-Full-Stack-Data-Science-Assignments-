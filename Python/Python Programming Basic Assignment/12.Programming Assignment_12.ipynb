{
 "cells": [
  {
   "cell_type": "markdown",
   "metadata": {},
   "source": [
    "### Programming Assignment_12"
   ]
  },
  {
   "cell_type": "markdown",
   "metadata": {},
   "source": [
    "#### 1.Write a Python program to Extract Unique values dictionary values?"
   ]
  },
  {
   "cell_type": "code",
   "execution_count": 1,
   "metadata": {},
   "outputs": [
    {
     "name": "stdout",
     "output_type": "stream",
     "text": [
      "dict_values(['apple', 'banana', 'grapes', 'banana'])\n",
      "['banana', 'apple', 'grapes']\n"
     ]
    }
   ],
   "source": [
    "my_dict = {1:'apple',2:'banana',3:'grapes',4:'banana'}\n",
    "print(my_dict.values())\n",
    "print(list(set(my_dict.values())))#set holds unique values; so converted to set"
   ]
  },
  {
   "cell_type": "markdown",
   "metadata": {},
   "source": [
    "#### 2.Write a Python program to find the sum of all items in a dictionary?"
   ]
  },
  {
   "cell_type": "code",
   "execution_count": 2,
   "metadata": {},
   "outputs": [
    {
     "name": "stdout",
     "output_type": "stream",
     "text": [
      "Sum of items: 100\n"
     ]
    }
   ],
   "source": [
    "d = {'honda':10,'maruti':20,'hyundai':30,'toyota':40}\n",
    "print(f\"Sum of items: {sum(d.values())}\")"
   ]
  },
  {
   "cell_type": "markdown",
   "metadata": {},
   "source": [
    "#### 3.Write a Python program to Merging two Dictionaries?"
   ]
  },
  {
   "cell_type": "code",
   "execution_count": 3,
   "metadata": {},
   "outputs": [
    {
     "name": "stdout",
     "output_type": "stream",
     "text": [
      "Merged dictionary: {'fruit': 'apple', 'vegetable': 'potato'}\n"
     ]
    }
   ],
   "source": [
    "#method 1: using update\n",
    "d1 = {'fruit':'apple'}\n",
    "d2 = {'vegetable':'potato'}\n",
    "d1.update(d2)\n",
    "print(f\"Merged dictionary: {d1}\")"
   ]
  },
  {
   "cell_type": "code",
   "execution_count": 4,
   "metadata": {},
   "outputs": [
    {
     "name": "stdout",
     "output_type": "stream",
     "text": [
      "{'fruit': 'apple', 'vegetable': 'potato'}\n"
     ]
    }
   ],
   "source": [
    "#method 3: using **operator\n",
    "print({**d1,**d2})"
   ]
  },
  {
   "cell_type": "markdown",
   "metadata": {},
   "source": [
    "#### 4.Write a Python program to convert key-values list to flat dictionary?"
   ]
  },
  {
   "cell_type": "code",
   "execution_count": 5,
   "metadata": {},
   "outputs": [
    {
     "name": "stdout",
     "output_type": "stream",
     "text": [
      "The dictionary is: {'A': 10, 'B': 20, 'C': 30, 'D': 40}\n",
      "('B', 20)\n"
     ]
    }
   ],
   "source": [
    "lst = [('A',10),('B',20),('C',30),('D',40)]\n",
    "#METHOD 1: converting list to dictionary\n",
    "print(f\"The dictionary is: {dict(lst)}\")\n",
    "print(lst[1])"
   ]
  },
  {
   "cell_type": "code",
   "execution_count": 6,
   "metadata": {},
   "outputs": [
    {
     "name": "stdout",
     "output_type": "stream",
     "text": [
      "{'A': 10, 'B': 20, 'C': 30, 'D': 40}\n"
     ]
    }
   ],
   "source": [
    "#method 2: using loop\n",
    "dictt = {}\n",
    "for ele in lst:\n",
    "    dictt[ele[0]] = ele[1] # as name['sh']='m' => {'sh':'m'}\n",
    "print(dictt)"
   ]
  },
  {
   "cell_type": "markdown",
   "metadata": {},
   "source": [
    "#### 5.Write a Python program to insertion at the beginning in OrderedDict?"
   ]
  },
  {
   "cell_type": "code",
   "execution_count": 7,
   "metadata": {},
   "outputs": [
    {
     "name": "stdout",
     "output_type": "stream",
     "text": [
      "OrderedDict([('D', 400), ('A', 100), ('B', 200), ('C', 300)])\n"
     ]
    }
   ],
   "source": [
    "#method1 :using concatenation(+) in list\n",
    "from collections import OrderedDict\n",
    "# initialising ordered_dict\n",
    "d1 = OrderedDict([('A',100),('B',200),('C',300)])\n",
    "insrt = OrderedDict([('D',400)])\n",
    "# inserting items in starting of dict\n",
    "final = OrderedDict(list(insrt.items()) + list(d1.items()))\n",
    "print(final)"
   ]
  },
  {
   "cell_type": "code",
   "execution_count": 8,
   "metadata": {},
   "outputs": [
    {
     "name": "stdout",
     "output_type": "stream",
     "text": [
      "OrderedDict([('A', 100), ('B', 200), ('C', 300)])\n",
      "OrderedDict([('A', 100), ('B', 200), ('C', 300), ('D', 400)])\n",
      "OrderedDict([('D', 400), ('A', 100), ('B', 200), ('C', 300)])\n"
     ]
    }
   ],
   "source": [
    "#method 2: using mov_to_end() method\n",
    "from collections import OrderedDict\n",
    "d1 = OrderedDict([('A',100),('B',200),('C',300)])\n",
    "print(d1)\n",
    "d1.update({'D':400})\n",
    "print(d1)\n",
    "d1.move_to_end('D',last=False)\n",
    "print(d1)"
   ]
  },
  {
   "cell_type": "markdown",
   "metadata": {},
   "source": [
    "#### 6.Write a Python program to check order of character in string using OrderedDict()?"
   ]
  },
  {
   "cell_type": "code",
   "execution_count": 9,
   "metadata": {},
   "outputs": [
    {
     "name": "stdout",
     "output_type": "stream",
     "text": [
      "enter string : shreyansh\n",
      "Enter Pattern : shre\n",
      "OrderedDict([('s', None), ('h', None), ('r', None), ('e', None), ('y', None), ('a', None), ('n', None)])\n",
      "Pattern matched\n"
     ]
    }
   ],
   "source": [
    "from collections import OrderedDict \n",
    "  \n",
    "def checkOrderofString(str, pattern): \n",
    "      \n",
    "    # create empty OrderedDict \n",
    "    dict = OrderedDict.fromkeys(str) \n",
    "    print(dict)   \n",
    "    strlen = 0\n",
    "    for key,value in dict.items(): \n",
    "        \n",
    "        if (key == pattern[strlen]): \n",
    "            strlen = strlen + 1\n",
    "        \n",
    "        # check if we have traverse complete pattern string \n",
    "        if (strlen == (len(pattern))):            \n",
    "            return 'true'\n",
    "    # if we come out from the loop that means order was mismatched \n",
    "    return 'false'\n",
    "  \n",
    "\n",
    "string = input(\"enter string : \")\n",
    "pattern = input(\"Enter Pattern : \")\n",
    "if checkOrderofString(string,pattern):\n",
    "    print(\"Pattern matched\")\n",
    "else:\n",
    "    print(\"Pattern not matched\")"
   ]
  },
  {
   "cell_type": "markdown",
   "metadata": {},
   "source": [
    "#### 7.Write a Python program to sort Python Dictionaries by Key or Value?"
   ]
  },
  {
   "cell_type": "code",
   "execution_count": 10,
   "metadata": {
    "scrolled": true
   },
   "outputs": [
    {
     "name": "stdout",
     "output_type": "stream",
     "text": [
      "{'city': 5, 'i20': 3, 'nexon': 4, 'punch': 9}\n"
     ]
    }
   ],
   "source": [
    "#sorting dictionary by key\n",
    "mydict = {'city':5 ,'punch':9,'nexon':4,'i20':3}\n",
    "mykeys = list(mydict.keys()) #converting the dictionary to list\n",
    "mykeys.sort() #sorting the list\n",
    "sorted_dict = {i:mydict[i] for i in mykeys} #list comprehension\n",
    "print(sorted_dict)"
   ]
  },
  {
   "cell_type": "code",
   "execution_count": 11,
   "metadata": {},
   "outputs": [
    {
     "name": "stdout",
     "output_type": "stream",
     "text": [
      "{'i20': 3, 'nexon': 4, 'city': 5, 'punch': 9}\n"
     ]
    }
   ],
   "source": [
    "#sorting dictionary by value\n",
    "import numpy as np\n",
    "mydict = {'city':5 ,'punch':9,'nexon':4,'i20':3}\n",
    "#converting the dictionary key& values to list\n",
    "mykeys = list(mydict.keys()) \n",
    "myvalues = list(mydict.values())\n",
    "sorted_value_index = np.argsort(myvalues) #sorted the values using \"argsort\"\n",
    "\n",
    "sorted_dict = {mykeys[i]:myvalues[i] for i in sorted_value_index} #list comprehension\n",
    "print(sorted_dict)"
   ]
  },
  {
   "cell_type": "code",
   "execution_count": null,
   "metadata": {},
   "outputs": [],
   "source": []
  }
 ],
 "metadata": {
  "kernelspec": {
   "display_name": "Python 3",
   "language": "python",
   "name": "python3"
  },
  "language_info": {
   "codemirror_mode": {
    "name": "ipython",
    "version": 3
   },
   "file_extension": ".py",
   "mimetype": "text/x-python",
   "name": "python",
   "nbconvert_exporter": "python",
   "pygments_lexer": "ipython3",
   "version": "3.7.6"
  }
 },
 "nbformat": 4,
 "nbformat_minor": 4
}
