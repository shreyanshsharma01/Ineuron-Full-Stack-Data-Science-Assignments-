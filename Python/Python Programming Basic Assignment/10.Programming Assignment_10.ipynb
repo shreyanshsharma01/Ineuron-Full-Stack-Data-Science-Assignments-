{
 "cells": [
  {
   "cell_type": "markdown",
   "metadata": {},
   "source": [
    "### Programming Assignment_10"
   ]
  },
  {
   "cell_type": "markdown",
   "metadata": {},
   "source": [
    "#### 1. Write a Python program to find sum of elements in list?"
   ]
  },
  {
   "cell_type": "code",
   "execution_count": 1,
   "metadata": {},
   "outputs": [
    {
     "name": "stdout",
     "output_type": "stream",
     "text": [
      "Sum of elements is 20\n"
     ]
    }
   ],
   "source": [
    "ar1 = [2,4,6,8]\n",
    "sum = 0\n",
    "\n",
    "for i in range(0,len(ar1)):\n",
    "    sum = ar1[i] + sum\n",
    "    \n",
    "print(f\"Sum of elements is {sum}\") "
   ]
  },
  {
   "cell_type": "markdown",
   "metadata": {},
   "source": [
    "#### 2. Write a Python program to Multiply all numbers in the list?"
   ]
  },
  {
   "cell_type": "code",
   "execution_count": 2,
   "metadata": {},
   "outputs": [
    {
     "name": "stdout",
     "output_type": "stream",
     "text": [
      "Multiplication of elements is 384\n"
     ]
    }
   ],
   "source": [
    "lst = [2,4,6,8]\n",
    "mul = 1\n",
    "\n",
    "for i in range(0,len(lst)):\n",
    "    mul = lst[i] * mul\n",
    "\n",
    "print(f\"Multiplication of elements is {mul}\") "
   ]
  },
  {
   "cell_type": "markdown",
   "metadata": {},
   "source": [
    "#### 3. Write a Python program to find smallest number in a list?"
   ]
  },
  {
   "cell_type": "code",
   "execution_count": 3,
   "metadata": {},
   "outputs": [
    {
     "name": "stdout",
     "output_type": "stream",
     "text": [
      "Min element is 2\n"
     ]
    }
   ],
   "source": [
    "arr = [2,4,15,8,3]\n",
    "min_arr = arr[0]\n",
    "\n",
    "for i in range(0,len(arr)):\n",
    "    if arr[i]<min_arr:\n",
    "        min_arr = arr[i]\n",
    "        \n",
    "print(f\"Min element is {min_arr}\")"
   ]
  },
  {
   "cell_type": "markdown",
   "metadata": {},
   "source": [
    "#### 4. Write a Python program to find largest number in a list?"
   ]
  },
  {
   "cell_type": "code",
   "execution_count": 4,
   "metadata": {},
   "outputs": [
    {
     "name": "stdout",
     "output_type": "stream",
     "text": [
      "Max element is 15\n"
     ]
    }
   ],
   "source": [
    "arr = [2,4,15,8,3]\n",
    "max_arr = arr[0]\n",
    "\n",
    "for i in range(0,len(arr)):\n",
    "    if arr[i]>max_arr:\n",
    "        max_arr = arr[i]\n",
    "        \n",
    "print(f\"Max element is {max_arr}\")"
   ]
  },
  {
   "cell_type": "markdown",
   "metadata": {},
   "source": [
    "#### 5. Write a Python program to find second largest number in a list?"
   ]
  },
  {
   "cell_type": "code",
   "execution_count": 5,
   "metadata": {},
   "outputs": [
    {
     "name": "stdout",
     "output_type": "stream",
     "text": [
      "2nd largest no: 45\n"
     ]
    }
   ],
   "source": [
    "# Approach 1: using sort()\n",
    "lst = [10,20,4,45,99]\n",
    "lst.sort() # sorting\n",
    "print(f\"2nd largest no: {lst[-2]}\") #accessing 2nd last no"
   ]
  },
  {
   "cell_type": "code",
   "execution_count": 6,
   "metadata": {},
   "outputs": [
    {
     "name": "stdout",
     "output_type": "stream",
     "text": [
      "2nd largest element: 15\n"
     ]
    }
   ],
   "source": [
    "# Approach 3: using loop\n",
    "arr = [2,5,15,4,18]\n",
    "max1 = arr[0]\n",
    "max2 = 0\n",
    "\n",
    "for i in range(0,len(arr)):\n",
    "     # If max no is smaller than any other no. then it will be 2nd max no.\n",
    "    if (max1<arr[i]):\n",
    "        max2 = max1\n",
    "        max1 = arr[i]\n",
    "    if (max2<arr[i] and arr[i]<max1):\n",
    "        max2 = arr[i]\n",
    "        \n",
    "print(f\"2nd largest element: {max2}\") "
   ]
  },
  {
   "cell_type": "markdown",
   "metadata": {},
   "source": [
    "#### 6. Write a Python program to find N largest elements from a list?"
   ]
  },
  {
   "cell_type": "code",
   "execution_count": 7,
   "metadata": {},
   "outputs": [
    {
     "name": "stdout",
     "output_type": "stream",
     "text": [
      "enter nth largest element: 3\n",
      "[6, 7, 10, 12, 15, 20, 28]\n",
      "3 largest element is: 15\n"
     ]
    }
   ],
   "source": [
    "# Approach 1:\n",
    "lst1 = [15,6,7,10,12,20,28]\n",
    "nth = int(input(\"enter nth largest element: \"))\n",
    "\n",
    "# Sorting the list using sort(): it changes the original list\n",
    "lst1.sort()\n",
    "print(lst1)\n",
    "# Accessing the nth part from last\n",
    "print(f\"{nth} largest element is: {lst1[len(lst1) - nth]}\")"
   ]
  },
  {
   "cell_type": "code",
   "execution_count": 8,
   "metadata": {},
   "outputs": [
    {
     "name": "stdout",
     "output_type": "stream",
     "text": [
      "enter nth largest element: 3\n",
      "[28, 20, 15, 12, 10, 7, 6]\n",
      "15\n"
     ]
    }
   ],
   "source": [
    "# Approach 2:\n",
    "lst1 = [15,6,7,10,12,20,28]\n",
    "nth = int(input(\"enter nth largest element: \"))\n",
    "\n",
    "# Sorting the list using sorted() function: it doest'nt change the orginal list\n",
    "srted = sorted(lst1, reverse=True)\n",
    "print(srted)\n",
    "# Accessing the nth part \n",
    "print(srted[nth-1])"
   ]
  },
  {
   "cell_type": "markdown",
   "metadata": {},
   "source": [
    "#### 7. Write a Python program to print even numbers in a list?"
   ]
  },
  {
   "cell_type": "code",
   "execution_count": 9,
   "metadata": {},
   "outputs": [
    {
     "name": "stdout",
     "output_type": "stream",
     "text": [
      "6 10 12 20 "
     ]
    }
   ],
   "source": [
    "lst2 = [15,6,7,10,12,20,27]\n",
    "for i in lst2:\n",
    "    if (i%2 == 0):\n",
    "        print(i,end=' ')\n",
    "# or using list comprehension:\n",
    "# [i for i in lst2 if i%2 == 0 ]"
   ]
  },
  {
   "cell_type": "markdown",
   "metadata": {},
   "source": [
    "#### 8. Write a Python program to print odd numbers in a List?"
   ]
  },
  {
   "cell_type": "code",
   "execution_count": 10,
   "metadata": {},
   "outputs": [
    {
     "name": "stdout",
     "output_type": "stream",
     "text": [
      "15 7 27 "
     ]
    }
   ],
   "source": [
    "lst2 = [15,6,7,10,12,20,27]\n",
    "for i in lst2:\n",
    "    if (i%2 != 0):\n",
    "        print(i,end=' ')"
   ]
  },
  {
   "cell_type": "markdown",
   "metadata": {},
   "source": [
    "#### 9. Write a Python program to Remove empty List from List?"
   ]
  },
  {
   "cell_type": "code",
   "execution_count": 11,
   "metadata": {},
   "outputs": [
    {
     "name": "stdout",
     "output_type": "stream",
     "text": [
      "[34, 7, 9, 12, 46]\n"
     ]
    }
   ],
   "source": [
    "# Approach 1: using append() method\n",
    "lst3 = [34,[],7,9,12,[],46]\n",
    "new_lst3 = []\n",
    "\n",
    "for i in lst3:\n",
    "    if i != []: # If empty list is not there add into new list\n",
    "        new_lst3.append(i)\n",
    "print(new_lst3)      "
   ]
  },
  {
   "cell_type": "code",
   "execution_count": 12,
   "metadata": {},
   "outputs": [
    {
     "name": "stdout",
     "output_type": "stream",
     "text": [
      "[34, 7, 9, 12, 46]\n"
     ]
    }
   ],
   "source": [
    "# Approach 2: using remove() method\n",
    "lst3 = [34,[],7,9,12,[],46]\n",
    "new_lst3 = []\n",
    "# Remove empty List from List\n",
    "while [] in lst3 :\n",
    "    lst3.remove([])\n",
    "print(lst3)"
   ]
  },
  {
   "cell_type": "code",
   "execution_count": 13,
   "metadata": {},
   "outputs": [
    {
     "name": "stdout",
     "output_type": "stream",
     "text": [
      "[34, 7, [6, 2], 9, 46]\n"
     ]
    }
   ],
   "source": [
    "# Approach 3: if list within list has 0 length then remove it\n",
    "lst3 = [34,[],7,[6,2],9,[],46]\n",
    "\n",
    "for i in lst3:\n",
    "    if type(i) == list:\n",
    "        if len(i) == 0:\n",
    "            lst3.remove([])\n",
    "print(lst3)"
   ]
  },
  {
   "cell_type": "markdown",
   "metadata": {},
   "source": [
    "#### 10. Write a Python program to Cloning or Copying a list?"
   ]
  },
  {
   "cell_type": "code",
   "execution_count": 14,
   "metadata": {},
   "outputs": [
    {
     "name": "stdout",
     "output_type": "stream",
     "text": [
      "[4, 8, 2, 10, 15, 18]\n"
     ]
    }
   ],
   "source": [
    "# Approach 1: using slicing technique\n",
    "lst = [4,8,2,10,15,18] \n",
    "lstcopy = lst[:] \n",
    "print(lstcopy)"
   ]
  },
  {
   "cell_type": "code",
   "execution_count": 15,
   "metadata": {},
   "outputs": [
    {
     "name": "stdout",
     "output_type": "stream",
     "text": [
      "[[4, 8, 2, 10, 15, 18]]\n"
     ]
    }
   ],
   "source": [
    "# Approach 2: using extend() method; extend adds all elements to list\n",
    "# but append add one by one or make a whole list out of the elements\n",
    "lst = [4,8,2,10,15,18] \n",
    "lstcopy = []\n",
    "lstcopy.append(lst) #\n",
    "print(lstcopy)"
   ]
  },
  {
   "cell_type": "markdown",
   "metadata": {},
   "source": [
    "#### 11. Write a Python program to Count occurrences of an element in a list?"
   ]
  },
  {
   "cell_type": "code",
   "execution_count": 16,
   "metadata": {},
   "outputs": [
    {
     "name": "stdout",
     "output_type": "stream",
     "text": [
      "Enter element whose occurence to count: 6\n",
      "Occurence of 6: 2\n"
     ]
    }
   ],
   "source": [
    "lst4 = [5,6,1,16,6,45]\n",
    "ele = int(input(\"Enter element whose occurence to count: \"))\n",
    "count = 0\n",
    "\n",
    "for i in lst4:\n",
    "    if i == ele:\n",
    "        count += 1 \n",
    "    else:\n",
    "        pass\n",
    "print(f'Occurence of {ele}: {count}')"
   ]
  },
  {
   "cell_type": "code",
   "execution_count": 17,
   "metadata": {},
   "outputs": [
    {
     "data": {
      "text/plain": [
       "2"
      ]
     },
     "execution_count": 17,
     "metadata": {},
     "output_type": "execute_result"
    }
   ],
   "source": [
    "# Approach 2: Using function\n",
    "lst4 = [5,6,1,16,6,45]\n",
    "\n",
    "def occurrence(lst, element):\n",
    "    count = 0\n",
    "    for i in lst:\n",
    "        if i == element:\n",
    "            count += 1        \n",
    "    return count\n",
    "occurrence(lst4,6)"
   ]
  },
  {
   "cell_type": "code",
   "execution_count": null,
   "metadata": {},
   "outputs": [],
   "source": []
  }
 ],
 "metadata": {
  "kernelspec": {
   "display_name": "Python 3",
   "language": "python",
   "name": "python3"
  },
  "language_info": {
   "codemirror_mode": {
    "name": "ipython",
    "version": 3
   },
   "file_extension": ".py",
   "mimetype": "text/x-python",
   "name": "python",
   "nbconvert_exporter": "python",
   "pygments_lexer": "ipython3",
   "version": "3.7.6"
  }
 },
 "nbformat": 4,
 "nbformat_minor": 4
}
