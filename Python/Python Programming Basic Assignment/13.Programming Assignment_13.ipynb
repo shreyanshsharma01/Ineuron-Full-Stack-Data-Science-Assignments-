{
 "cells": [
  {
   "cell_type": "markdown",
   "id": "2227d3cd-9853-4d46-a092-ade943d92522",
   "metadata": {},
   "source": [
    "## Assignment 13 Answers"
   ]
  },
  {
   "cell_type": "markdown",
   "id": "39b835c3-ce30-45c0-94dd-3d349df8f225",
   "metadata": {},
   "source": [
    "#### 1.Write a program that calculates and prints the value according to the given formula:"
   ]
  },
  {
   "cell_type": "raw",
   "id": "6c761d19-c4de-4c0f-83b1-089f72cbfb77",
   "metadata": {},
   "source": [
    "Q = Square root of [(2 * C * D)/H]\n",
    "Following are the fixed values of C and H:\n",
    "C is 50. H is 30.\n",
    "D is the variable whose values should be input to your program in a comma-separated sequence.\n",
    "\n",
    "Example: Let us assume the following comma separated input sequence is given to the program:100,150,180\n",
    "The output of the program should be: 18,22,24"
   ]
  },
  {
   "cell_type": "code",
   "execution_count": 5,
   "id": "c36a0fb6-a144-422b-8630-1a6e0067d66e",
   "metadata": {},
   "outputs": [
    {
     "name": "stdin",
     "output_type": "stream",
     "text": [
      "Enter input:  100,150,180\n"
     ]
    },
    {
     "name": "stdout",
     "output_type": "stream",
     "text": [
      "Output: ['18', '22', '24']\n"
     ]
    }
   ],
   "source": [
    "from math import sqrt\n",
    "\n",
    "def CalculateFormula():\n",
    "    inp_num = eval(input('Enter input: ')) # eval is used to take input as string, primarily used in maths formula\n",
    "    # or using: inp = list(input(\"Enter comma separated numbers input: \").split(','))\n",
    "    out_num = []\n",
    "    C = 50 # Declaring and initializing constant C\n",
    "    H = 30 # Declaring and initializing constant H  \n",
    "    \n",
    "    # using loop to iterate over input numbers\n",
    "    for ele in inp_num:\n",
    "        Q = str(int(sqrt((2*C*ele)/H)))\n",
    "        out_num.append(Q)\n",
    "    print(f'Output: {out_num}')\n",
    "    \n",
    "# calling the function\n",
    "CalculateFormula()\n"
   ]
  },
  {
   "cell_type": "markdown",
   "id": "770c67cb-008f-4055-a763-16e284576817",
   "metadata": {},
   "source": [
    "### 2.Write a program which takes 2 digits, X,Y as input and generates a 2-dimensional array. The element value in the i-th row and j-th column of the array should be i*j."
   ]
  },
  {
   "cell_type": "raw",
   "id": "689ea649-57e4-4406-97e9-cfc506ad26fd",
   "metadata": {},
   "source": [
    "Note: i=0,1.., X-1; j=0,1,¡Y-1.\n",
    "\n",
    "Example: Suppose the following inputs are given to the program: 3,5\n",
    "Then, the output of the program should be:[[0, 0, 0, 0, 0], [0, 1, 2, 3, 4], [0, 2, 4, 6, 8]]"
   ]
  },
  {
   "cell_type": "code",
   "execution_count": 9,
   "id": "9ab13b71-7250-4700-984c-ab0b0c0b0aed",
   "metadata": {},
   "outputs": [
    {
     "name": "stdin",
     "output_type": "stream",
     "text": [
      "Enter X value:  3\n",
      "Enter Y value:  5\n"
     ]
    },
    {
     "data": {
      "text/plain": [
       "[[0, 0, 0, 0, 0], [0, 1, 2, 3, 4], [0, 2, 4, 6, 8]]"
      ]
     },
     "execution_count": 9,
     "metadata": {},
     "output_type": "execute_result"
    }
   ],
   "source": [
    "x = int(input(\"Enter X value: \"))\n",
    "y = int(input(\"Enter Y value: \"))\n",
    "matrix = [] # making list as matrix\n",
    "\n",
    "for i in range(x): \n",
    "    row=[]\n",
    "    for j in range(y):\n",
    "        row.append(i*j)\n",
    "    matrix.append(row)\n",
    "matrix  "
   ]
  },
  {
   "cell_type": "markdown",
   "id": "f0fe4083-c664-410d-a6f9-b4bee12e7c01",
   "metadata": {},
   "source": [
    "### 3. Write a program that accepts a comma separated sequence of words as input and prints the words in a comma-separated sequence after sorting them alphabetically."
   ]
  },
  {
   "cell_type": "code",
   "execution_count": 26,
   "id": "ca7fec65-6245-4046-9ded-ce45032c3e2e",
   "metadata": {},
   "outputs": [
    {
     "name": "stdin",
     "output_type": "stream",
     "text": [
      "Enter comma separated words:  hello,all,how,are,you\n"
     ]
    },
    {
     "name": "stdout",
     "output_type": "stream",
     "text": [
      "None\n",
      "all,are,hello,how,you\n"
     ]
    }
   ],
   "source": [
    "word = list(input('Enter comma separated words: ').split(', '))# take input as list separated with comma\n",
    "# now to sort alphabetically\n",
    "print(word.sort())\n",
    "#print output in comma separated\n",
    "print(', '.join(word))"
   ]
  },
  {
   "cell_type": "markdown",
   "id": "e88ad57c-d02d-4908-8f23-9048b26da8e5",
   "metadata": {},
   "source": [
    "### 4. Write a program that accepts a sequence of whitespace separated words as input and prints the words after removing all duplicate words and sorting them alphanumerically."
   ]
  },
  {
   "cell_type": "code",
   "execution_count": 29,
   "id": "a663d541-1b9f-40b2-8bb0-6b4506f925a7",
   "metadata": {},
   "outputs": [
    {
     "name": "stdin",
     "output_type": "stream",
     "text": [
      "Enter space separated words:  hello hello all how are you \n"
     ]
    },
    {
     "name": "stdout",
     "output_type": "stream",
     "text": [
      " all are hello how you\n"
     ]
    }
   ],
   "source": [
    "words = list(input('Enter space separated words: ').split(' '))\n",
    "#removing duplicate words\n",
    "unique_words = []\n",
    "for item in words:               # set() can also be used to get unique elements \n",
    "    if item not in unique_words:\n",
    "        unique_words.append(item)\n",
    "        \n",
    "#now sorting them alphanumerically\n",
    "unique_words.sort() #or use sorted_words = sorted(unique_words)\n",
    "print(' '.join(unique_words))"
   ]
  },
  {
   "cell_type": "markdown",
   "id": "065073f1-ecc5-45d1-9342-90abccd1ce88",
   "metadata": {},
   "source": [
    "### 5. Write a program that accepts a sentence and calculate the number of letters and digits."
   ]
  },
  {
   "cell_type": "code",
   "execution_count": 8,
   "id": "45dbb4ed-91a7-493a-935b-e676b127baf6",
   "metadata": {},
   "outputs": [
    {
     "name": "stdin",
     "output_type": "stream",
     "text": [
      "Enter sentence:  hello1 welcome123\n"
     ]
    },
    {
     "name": "stdout",
     "output_type": "stream",
     "text": [
      "Letter: 12 \n",
      "Digits: 4\n"
     ]
    }
   ],
   "source": [
    "sentence = input(\"Enter sentence: \")\n",
    "Letters = 0\n",
    "Digits = 0\n",
    "\n",
    "for strg in sentence:\n",
    "    if (ord(strg)>=ord('a') and ord(strg)<=ord('z') or ord(strg)>=ord('A') and ord(strg)<=ord('Z')):\n",
    "        Letters+=1\n",
    "    elif(ord(strg)>=ord('0') and ord(strg)<=ord('9')):\n",
    "        Digits+=1\n",
    "        \n",
    "print(f\"Letter: {Letters} \\nDigits: {Digits}\")"
   ]
  },
  {
   "cell_type": "markdown",
   "id": "bf6a2439-e90f-4e10-ae13-72ebc618f1f5",
   "metadata": {},
   "source": [
    "### 6. A website requires the users to input username and password to register. Write a program to check the validity of password input by users.\n",
    "\n",
    "Following are the criteria for checking the password:\n",
    "\n",
    "1. At least 1 letter between [a-z]\n",
    "2. At least 1 number between [0-9]\n",
    "3. At least 1 letter between [A-Z]\n",
    "4. At least 1 character from [$#@]\n",
    "5. Minimum length of transaction password: 6\n",
    "6. Maximum length of transaction password: 12\n",
    "7. Your program should accept a sequence of comma separated passwords and will check them according to the above criteria. Passwords that match the criteria are to be printed, each separated by a comma.\n",
    "\n",
    "**Example**:                 \n",
    "If the following passwords are given as input to the program: *ABd1234@1,a F1#,2w3E*,2We3345     \n",
    "Then, the output of the program should be: *ABd1234@1*"
   ]
  },
  {
   "cell_type": "code",
   "execution_count": 11,
   "id": "c005ff6b-922f-4282-a2aa-22053cbc32bc",
   "metadata": {},
   "outputs": [
    {
     "name": "stdin",
     "output_type": "stream",
     "text": [
      "Enter comma seperated passwords:  ABd1234@1,a F1#,2w3E,2We3345\n"
     ]
    },
    {
     "name": "stdout",
     "output_type": "stream",
     "text": [
      "ABd1234@1\n"
     ]
    }
   ],
   "source": [
    "def check_smallcase(password):\n",
    "    check = False\n",
    "    for p in password:\n",
    "        if ord(p) >= ord('a') and ord(p) <= ord('z'):\n",
    "            check = True\n",
    "            break\n",
    "    return check\n",
    "\n",
    "def check_uppercase(password):\n",
    "    check = False\n",
    "    for p in password:\n",
    "        if ord(p) >= ord('A') and ord(p) <= ord('Z'):\n",
    "            check = True\n",
    "            break\n",
    "    return check\n",
    "\n",
    "def check_digit(password):\n",
    "    check = False\n",
    "    for p in password:\n",
    "        if ord(p) >= ord('1') and ord(p) <= ord('9'):\n",
    "            check = True\n",
    "            break\n",
    "    return check\n",
    "\n",
    "def check_specialchars(password):\n",
    "    check = False\n",
    "    specials = \"!@#$%^&*()_+=->;,:/?`\"\n",
    "    for p in password:\n",
    "        if p in specials:\n",
    "            check = True\n",
    "            break\n",
    "    return check\n",
    "\n",
    "def check_minlength(password):\n",
    "    return len(password) >= 6\n",
    "\n",
    "def check_maxlength(password):\n",
    "    return len(password) <= 12\n",
    "\n",
    "passwords = list(set(input(\"Enter comma seperated passwords: \").split(',')))\n",
    "valid_passwords = []\n",
    "for password in passwords:\n",
    "    if check_smallcase(password) and check_uppercase(password) and check_digit(password) and check_specialchars(password) and check_minlength(password) and check_maxlength(password):\n",
    "        valid_passwords.append(password)\n",
    "print(','.join(valid_passwords))\n",
    "\n",
    "\n",
    "\n",
    "# another method\n",
    "'''def checkPassword():\n",
    "    in_string = input(\"Enter the Input String: \")\n",
    "    small_list = \"abcdefghijklmnopqrstuvwxyz\"\n",
    "    cap_list = \"ABCDEFGHIJKLMNOPQRSTUVWXYZ\"\n",
    "    num_list = \"0123456789\"\n",
    "    special_list = \"$#@\"\n",
    "    for ele in in_string.split(\",\"):\n",
    "        if len(ele) <= 12 and len(ele) >=6 :\n",
    "            if any(i.isupper() for i in ele):\n",
    "                if any(i.islower() for i in ele):\n",
    "                    if any(i for i in ele if i in special_list):\n",
    "                        print(ele)\n",
    "                               \n",
    "checkPassword()'''"
   ]
  },
  {
   "cell_type": "code",
   "execution_count": null,
   "id": "c738560f-0db4-41ee-841a-1f2ff6559e22",
   "metadata": {},
   "outputs": [],
   "source": []
  }
 ],
 "metadata": {
  "kernelspec": {
   "display_name": "Python 3 (ipykernel)",
   "language": "python",
   "name": "python3"
  },
  "language_info": {
   "codemirror_mode": {
    "name": "ipython",
    "version": 3
   },
   "file_extension": ".py",
   "mimetype": "text/x-python",
   "name": "python",
   "nbconvert_exporter": "python",
   "pygments_lexer": "ipython3",
   "version": "3.10.6"
  }
 },
 "nbformat": 4,
 "nbformat_minor": 5
}
